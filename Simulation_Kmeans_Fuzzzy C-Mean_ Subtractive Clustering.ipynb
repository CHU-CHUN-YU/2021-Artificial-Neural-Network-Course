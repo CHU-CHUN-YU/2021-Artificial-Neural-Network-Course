{
  "nbformat": 4,
  "nbformat_minor": 0,
  "metadata": {
    "colab": {
      "name": "ANN_HW2_Q3.ipynb",
      "provenance": [],
      "toc_visible": true
    },
    "kernelspec": {
      "name": "python3",
      "display_name": "Python 3"
    },
    "language_info": {
      "name": "python"
    }
  },
  "cells": [
    {
      "cell_type": "code",
      "metadata": {
        "id": "EGgSe7lQQKXF"
      },
      "source": [
        "\n",
        "import math\n",
        "import pandas as pd\n",
        "import numpy as np\n",
        "import numpy.random as random \n",
        "import matplotlib.pyplot as plt"
      ],
      "execution_count": null,
      "outputs": []
    },
    {
      "cell_type": "code",
      "metadata": {
        "id": "q1teTlbWQRSP"
      },
      "source": [
        ""
      ],
      "execution_count": null,
      "outputs": []
    },
    {
      "cell_type": "code",
      "metadata": {
        "id": "nZMz9TqEQRlL"
      },
      "source": [
        "#%%\n",
        "#輸入資料之函數\n",
        "def x1(a1,b1):\n",
        "    x1=math.sin(a1)*math.cos(b1)\n",
        "    return x1\n",
        "\n",
        "def y1(a1,b1):\n",
        "    y1=math.sin(a1)*math.sin(b1)\n",
        "    return y1\n",
        "\n",
        "def x2(a2,b2):\n",
        "    x2=math.sin(a2)*math.cos(b2)\n",
        "    return x2\n",
        "\n",
        "def y2(a2,b2):\n",
        "    y2=math.sin(a2)*math.sin(b2)\n",
        "    return y2\n",
        "\n",
        "def x3(a3,b3):\n",
        "    x3=math.sin(a3)*math.cos(b3)\n",
        "    return x3\n",
        "\n",
        "def y3(a3,b3):\n",
        "    y3=math.sin(a3)*math.sin(b3)\n",
        "    return y3"
      ],
      "execution_count": null,
      "outputs": []
    },
    {
      "cell_type": "code",
      "metadata": {
        "id": "XZ6DnFUEQRwH"
      },
      "source": [
        "#原本上面定義的函數不接受array,通過vectorize便能夠輸入矩陣進入變數裏面\n",
        "x1=np.vectorize(x1)\n",
        "y1=np.vectorize(y1)\n",
        "x2=np.vectorize(x2)\n",
        "y2=np.vectorize(y2)\n",
        "x3=np.vectorize(x3)\n",
        "y3=np.vectorize(y3)\n",
        "\n",
        "a1=-math.pi/4+(math.pi/2)*random.uniform(0,1,20)\n",
        "b1=2*math.pi*random.uniform(0,1,20)\n",
        "sdev1=0.6*random.uniform(0,1,20)\n",
        "sdev2=0.6*random.uniform(0,1,20)\n",
        "output1=x1(a1,b1)+sdev1\n",
        "output2=y1(a1,b1)+sdev2\n",
        "\n",
        "a2=(math.pi/4)+((2*math.pi)/4)*random.uniform(0,1,20)\n",
        "b2=(-math.pi/2)+(math.pi)*random.uniform(1,20)\n",
        "sdev3=0.6*random.uniform(0,1,20)\n",
        "sdev4=0.6*random.uniform(0,1,20)\n",
        "output3=x2(a2,b2)+sdev3\n",
        "output4=y2(a2,b2)+sdev4\n",
        "\n",
        "a3=(-math.pi/2)+((4*math.pi)/2)*random.uniform(0,1,20)\n",
        "b3=(-math.pi/2)+(4*math.pi/4)*random.uniform(0,1,20)\n",
        "sdev5=0.6*random.uniform(0,1,20)\n",
        "sdev6=0.6*random.uniform(0,1,20)\n",
        "output5=x3(a3,b3)+sdev5\n",
        "output6=y3(a3,b3)+sdev6\n",
        "\n",
        "X_1=np.hstack((output1,output3,output5))\n",
        "X_2=np.hstack((output2,output4,output6))\n",
        "x=np.vstack((X_1,X_2))\n",
        "x=np.transpose(x)"
      ],
      "execution_count": null,
      "outputs": []
    },
    {
      "cell_type": "markdown",
      "metadata": {
        "id": "evfPJ5tdRNCN"
      },
      "source": [
        "#K-means classification"
      ]
    },
    {
      "cell_type": "code",
      "metadata": {
        "colab": {
          "base_uri": "https://localhost:8080/",
          "height": 298
        },
        "id": "AFHhslZ7QSLU",
        "outputId": "98580987-1357-4a2b-eff6-85f98afdf3eb"
      },
      "source": [
        "#%%\n",
        "#K-means classification\n",
        "\n",
        "#接下來匯入KMeans函式庫\n",
        "from sklearn.cluster import KMeans #安裝 k-means 套件方式: pip install sklearn\n",
        "#請KMeans分成四類\n",
        "clf = KMeans(n_clusters=2)\n",
        "#開始訓練\n",
        "clf.fit(x)\n",
        "#分類結果\n",
        "km_labels = clf.labels_ #分成哪一類\n",
        "km_centers = clf.cluster_centers_ #四組分類的中心點\n",
        "\n",
        "plt.scatter(x[:,0],x[:,1], c=km_labels,s=50,cmap='viridis')\n",
        "plt.scatter(km_centers[:, 0], km_centers[:, 1], c='black', s=200, alpha=0.5);\n",
        "plt.title('K-means')"
      ],
      "execution_count": null,
      "outputs": [
        {
          "output_type": "execute_result",
          "data": {
            "text/plain": [
              "Text(0.5, 1.0, 'K-means')"
            ]
          },
          "metadata": {},
          "execution_count": 55
        },
        {
          "output_type": "display_data",
          "data": {
            "image/png": "[encoded data removed]",
            "text/plain": [
              "<Figure size 432x288 with 1 Axes>"
            ]
          },
          "metadata": {
            "needs_background": "light"
          }
        }
      ]
    },
    {
      "cell_type": "code",
      "metadata": {
        "colab": {
          "base_uri": "https://localhost:8080/"
        },
        "id": "GrQkGyRMSSWi",
        "outputId": "06006fcc-25ee-4206-b107-eecd2a0d3af6"
      },
      "source": [
        "clf.cluster_centers_"
      ],
      "execution_count": null,
      "outputs": [
        {
          "output_type": "execute_result",
          "data": {
            "text/plain": [
              "array([[-0.33741832,  0.32733288],\n",
              "       [ 0.81366574,  0.31038594]])"
            ]
          },
          "metadata": {},
          "execution_count": 57
        }
      ]
    },
    {
      "cell_type": "markdown",
      "metadata": {
        "id": "2vvtXME_RQZD"
      },
      "source": [
        "#Fuzzy-C means classification"
      ]
    },
    {
      "cell_type": "code",
      "metadata": {
        "colab": {
          "base_uri": "https://localhost:8080/",
          "height": 547
        },
        "id": "0iPC4XHoR8Hy",
        "outputId": "a826b00d-b956-4d76-855c-35822183f0b2"
      },
      "source": [
        "pip install fuzzy-c-means"
      ],
      "execution_count": null,
      "outputs": [
        {
          "output_type": "stream",
          "name": "stdout",
          "text": [
            "Collecting fuzzy-c-means\n",
            "  Downloading fuzzy_c_means-1.6.3-py3-none-any.whl (9.1 kB)\n",
            "Collecting numpy<2.0.0,>=1.21.1\n",
            "  Downloading numpy-1.21.4-cp37-cp37m-manylinux_2_12_x86_64.manylinux2010_x86_64.whl (15.7 MB)\n",
            "\u001b[K     |████████████████████████████████| 15.7 MB 7.0 MB/s \n",
            "\u001b[?25hCollecting pydantic<2.0.0,>=1.8.2\n",
            "  Downloading pydantic-1.8.2-cp37-cp37m-manylinux2014_x86_64.whl (10.1 MB)\n",
            "\u001b[K     |████████████████████████████████| 10.1 MB 53.1 MB/s \n",
            "\u001b[?25hRequirement already satisfied: tabulate<0.9.0,>=0.8.9 in /usr/local/lib/python3.7/dist-packages (from fuzzy-c-means) (0.8.9)\n",
            "Collecting typer<0.4.0,>=0.3.2\n",
            "  Downloading typer-0.3.2-py3-none-any.whl (21 kB)\n",
            "Requirement already satisfied: typing-extensions>=3.7.4.3 in /usr/local/lib/python3.7/dist-packages (from pydantic<2.0.0,>=1.8.2->fuzzy-c-means) (3.10.0.2)\n",
            "Requirement already satisfied: click<7.2.0,>=7.1.1 in /usr/local/lib/python3.7/dist-packages (from typer<0.4.0,>=0.3.2->fuzzy-c-means) (7.1.2)\n",
            "Installing collected packages: typer, pydantic, numpy, fuzzy-c-means\n",
            "  Attempting uninstall: numpy\n",
            "    Found existing installation: numpy 1.19.5\n",
            "    Uninstalling numpy-1.19.5:\n",
            "      Successfully uninstalled numpy-1.19.5\n",
            "\u001b[31mERROR: pip's dependency resolver does not currently take into account all the packages that are installed. This behaviour is the source of the following dependency conflicts.\n",
            "yellowbrick 1.3.post1 requires numpy<1.20,>=1.16.0, but you have numpy 1.21.4 which is incompatible.\n",
            "datascience 0.10.6 requires folium==0.2.1, but you have folium 0.8.3 which is incompatible.\n",
            "albumentations 0.1.12 requires imgaug<0.2.7,>=0.2.5, but you have imgaug 0.2.9 which is incompatible.\u001b[0m\n",
            "Successfully installed fuzzy-c-means-1.6.3 numpy-1.21.4 pydantic-1.8.2 typer-0.3.2\n"
          ]
        },
        {
          "output_type": "display_data",
          "data": {
            "application/vnd.colab-display-data+json": {
              "pip_warning": {
                "packages": [
                  "numpy"
                ]
              }
            }
          },
          "metadata": {}
        }
      ]
    },
    {
      "cell_type": "code",
      "metadata": {
        "colab": {
          "base_uri": "https://localhost:8080/",
          "height": 299
        },
        "id": "ZHohvY7sRB6c",
        "outputId": "d249001f-430c-4b87-d256-23f052243049"
      },
      "source": [
        "#Fuzzy-C means classification\n",
        "#接下來匯入Fuzzy C-Means函式庫\n",
        "from fcmeans import FCM #安裝 fuzzy-c-means 套件方式: pip install fuzzy-c-means\n",
        "#請KMeans分成四類\n",
        "fcm = FCM(n_clusters=2)\n",
        "#開始訓練\n",
        "fcm.fit(x)\n",
        "#分類結果\n",
        "fcm_centers = fcm.centers #分成哪一類\n",
        "fcm_labels  = fcm.u.argmax(axis=1) #四組分類的中心點\n",
        "plt.scatter(x[:,0],x[:,1], c=fcm_labels,s=50,cmap='viridis')\n",
        "plt.scatter(fcm_centers[:, 0], fcm_centers[:, 1], c='black', s=200, alpha=0.5);\n",
        "plt.title('Fuzzy-c-means')"
      ],
      "execution_count": null,
      "outputs": [
        {
          "output_type": "execute_result",
          "data": {
            "text/plain": [
              "Text(0.5, 1.0, 'Fuzzy-c-means')"
            ]
          },
          "metadata": {},
          "execution_count": 6
        },
        {
          "output_type": "display_data",
          "data": {
            "image/png": "[encoded data removed]",
            "text/plain": [
              "<Figure size 432x288 with 1 Axes>"
            ]
          },
          "metadata": {
            "needs_background": "light"
          }
        }
      ]
    },
    {
      "cell_type": "code",
      "metadata": {
        "colab": {
          "base_uri": "https://localhost:8080/"
        },
        "id": "6PloBvAKS5Db",
        "outputId": "77ab960a-2491-43fd-ee94-e78ebdb65639"
      },
      "source": [
        "fcm_centers"
      ],
      "execution_count": null,
      "outputs": [
        {
          "output_type": "execute_result",
          "data": {
            "text/plain": [
              "array([[ 0.51378198,  0.3819915 ],\n",
              "       [-0.44511892,  0.03765958]])"
            ]
          },
          "metadata": {},
          "execution_count": 29
        }
      ]
    },
    {
      "cell_type": "code",
      "metadata": {
        "id": "AZ_q3TpKJT0y"
      },
      "source": [
        "from numpy import linalg as LA\n",
        "d1=[]\n",
        "d2=[]\n",
        "#d3=[]\n",
        "# d4=[]\n",
        "\n",
        "for i in range(1):\n",
        "        \n",
        "    fcm = FCM(n_clusters=2)   \n",
        "    fcm.fit(x)\n",
        "    fcm_centers = fcm.centers \n",
        "    fcm_labels  = fcm.u.argmax(axis=1) \n",
        "    di1=LA.norm((x[np.where(fcm_labels==0)]-fcm_centers[0]),2)\n",
        "    di2=LA.norm((x[np.where(fcm_labels==1)]-fcm_centers[1]),2)\n",
        "    #di3=LA.norm((x[np.where(fcm_labels==2)]-fcm_centers[2]),2)\n",
        "    # di4=LA.norm((x[np.where(fcm_labels==3)]-fcm_centers[3]),2)\n",
        "    \n",
        "    \n",
        "    d1.append(di1)\n",
        "    d2.append(di2)\n",
        "    #d3.append(di3)\n",
        "    # d4.append(di4)"
      ],
      "execution_count": null,
      "outputs": []
    },
    {
      "cell_type": "code",
      "metadata": {
        "colab": {
          "base_uri": "https://localhost:8080/"
        },
        "id": "hRSVRS44JTuF",
        "outputId": "ec43ebae-9019-4770-f2d9-f9df3dc81a88"
      },
      "source": [
        "print(np.mean(d1),np.var(d1))\n",
        "print(np.mean(d2),np.var(d2))\n",
        "#print(np.mean(d3),np.var(d3))\n",
        "# print(np.mean(d4),np.var(d4))"
      ],
      "execution_count": null,
      "outputs": [
        {
          "output_type": "stream",
          "name": "stdout",
          "text": [
            "2.3371007143117226 0.0\n",
            "1.9793789930474273 0.0\n"
          ]
        }
      ]
    },
    {
      "cell_type": "code",
      "metadata": {
        "colab": {
          "base_uri": "https://localhost:8080/",
          "height": 281
        },
        "id": "FLC03ECgJTiu",
        "outputId": "20625b71-9362-4914-88ec-5293f97e7cb3"
      },
      "source": [
        "for i in range(50):\n",
        "\n",
        "  fcm = FCM(n_clusters=2)\n",
        "  \n",
        "  fcm.fit(x)\n",
        "  \n",
        "  fcm_centers = fcm.centers #分成哪一類\n",
        "  fcm_labels  = fcm.u.argmax(axis=1) #四組分類的中心點\n",
        "  #plt.scatter(x[:,0],x[:,1], c=fcm_labels,s=50,cmap='viridis')\n",
        "  plt.scatter(fcm_centers[:, 0], fcm_centers[:, 1], c='black', s=200, alpha=0.1);\n",
        "  plt.title('Fuzzy-c-means')\n",
        "\n",
        "\n",
        "\n"
      ],
      "execution_count": null,
      "outputs": [
        {
          "output_type": "display_data",
          "data": {
            "image/png": "[encoded data removed]",
            "text/plain": [
              "<Figure size 432x288 with 1 Axes>"
            ]
          },
          "metadata": {
            "needs_background": "light"
          }
        }
      ]
    },
    {
      "cell_type": "markdown",
      "metadata": {
        "id": "kI0I_YzBRcZb"
      },
      "source": [
        "#Substractive clustering"
      ]
    },
    {
      "cell_type": "code",
      "metadata": {
        "id": "jiEvY_wORZ6P"
      },
      "source": [
        "#建立substractive clustering algorithm\n",
        "#以下的code是根據 https://github.com/bhaveshkumarraj/Subtractive-Clustering-Algorithm/blob/master/code.py 去改寫\n",
        "def substractive_clustering_algorithm(input_data,ra,rb,Eup,Edown):\n",
        "    cluster_center = []\n",
        "    size = len(input_data)\n",
        "    potential = [0.0] * size\n",
        "    for i in range(size):\n",
        "        Xi = input_data[i]\n",
        "        for j in range(i + 1, size):\n",
        "            Xj = input_data[j]\n",
        "            value = np.exp(-4* ((Xi[0] - Xj[0]) ** 2 + (Xi[1] - Xj[1]) ** 2 ) / (ra / 2) ** 2)\n",
        "            potential[i] += value\n",
        "            potential[j] += value\n",
        "    max_potential_value = max(potential)  # p1\n",
        "    max_potential_index = potential.index(max_potential_value)\n",
        "    \n",
        "    # filter through accept and reject criteria\n",
        "    current_max_value = max_potential_value\n",
        "    criteria = 1\n",
        "    while criteria and current_max_value:\n",
        "        criteria = 0\n",
        "        max_potential_vector = input_data[max_potential_index]  # x1\n",
        "        potential_ratio = current_max_value / max_potential_value  # Pk and MaxPValue\n",
        "    \n",
        "        if potential_ratio > Eup:\n",
        "            criteria = 1\n",
        "        elif potential_ratio > Edown:\n",
        "            dmin = np.min([(max_potential_vector[0] - cc[0]) ** 2 + (max_potential_vector[1] - cc[1]) ** 2 for cc in cluster_center])\n",
        "            if ((dmin / ra) + potential_ratio) >= 1:\n",
        "                criteria = 1\n",
        "            else:\n",
        "                criteria = 2\n",
        "        elif potential_ratio < Edown:\n",
        "            break\n",
        "    \n",
        "        if criteria is 1:\n",
        "            cluster_center.append(max_potential_vector)\n",
        "            for i in range(size):\n",
        "                Xj = input_data[i]\n",
        "                potential_value = potential[i]\n",
        "                potential_value = potential_value - (current_max_value * np.exp(-4*\n",
        "                                                    ((max_potential_vector[0] - Xj[0]) ** 2 +\n",
        "                                                    (max_potential_vector[1] - Xj[1]) ** 2 )) / (rb / 2) ** 2)\n",
        "                if potential_value < 0:\n",
        "                    potential_value = 0\n",
        "                potential[i] = potential_value\n",
        "            current_max_value = max(potential)  # p1\n",
        "            max_potential_index = potential.index(current_max_value)\n",
        "        elif criteria is 2:\n",
        "            potential[max_potential_index] = 0\n",
        "            current_max_value = max(potential)  # p1\n",
        "            max_potential_index = potential.index(current_max_value)\n",
        "            \n",
        "    return cluster_center"
      ],
      "execution_count": null,
      "outputs": []
    },
    {
      "cell_type": "code",
      "metadata": {
        "colab": {
          "base_uri": "https://localhost:8080/",
          "height": 281
        },
        "id": "g81Itma9RCZX",
        "outputId": "bfa2848b-cdf8-46b1-c76d-5fd9148ce56a"
      },
      "source": [
        "#%%\n",
        "#Substractive clustering\n",
        "ra = 2\n",
        "rb = ra * 1.5\n",
        "Eup = 0.5\n",
        "Edown = 0.15\n",
        "#套用在上方呼叫好的減法聚類函數\n",
        "sub_center=substractive_clustering_algorithm(x,ra,rb,Eup,Edown)\n",
        "\n",
        "plt.scatter(x[:,0],x[:,1],s=50,cmap='viridis')\n",
        "plt.Circle((0.10881512,0.16586434), 1.9, color='r')\n",
        "\n",
        "for idx, centroid in enumerate(sub_center):\n",
        "    plt.scatter(*centroid, c='k', s=150, marker='X',label='Cluster '+str(idx+1))\n",
        "plt.title('Subtractive clusters')\n",
        "\n",
        "plt.legend()\n",
        "plt.show()"
      ],
      "execution_count": null,
      "outputs": [
        {
          "output_type": "display_data",
          "data": {
            "image/png": "[encoded data removed]",
            "text/plain": [
              "<Figure size 432x288 with 1 Axes>"
            ]
          },
          "metadata": {
            "needs_background": "light"
          }
        }
      ]
    },
    {
      "cell_type": "code",
      "metadata": {
        "id": "XoppauMTVPJm"
      },
      "source": [
        "for i in range(50):\n",
        "\n",
        "  #Substractive clustering\n",
        "  ra = 2\n",
        "  rb = ra * 1.5\n",
        "  Eup = 0.5\n",
        "  Edown = 0.15\n",
        "  #套用在上方呼叫好的減法聚類函數\n",
        "  sub_center=substractive_clustering_algorithm(x,ra,rb,Eup,Edown)\n",
        "\n",
        "  #plt.scatter(x[:,0],x[:,1],s=50,cmap='viridis')\n",
        "  #plt.Circle((0.10881512,0.16586434), 1.9, color='r')\n",
        "\n",
        "  for idx, centroid in enumerate(sub_center):\n",
        "      plt.scatter(*centroid, c='k', s=150, marker='X',label='Cluster '+str(idx+1))\n",
        "  plt.title('Subtractive clusters')\n",
        "\n",
        "  plt.legend()\n",
        "  plt.show()\n"
      ],
      "execution_count": null,
      "outputs": []
    },
    {
      "cell_type": "code",
      "metadata": {
        "id": "O_Ccyx3JVO9Y"
      },
      "source": [
        ""
      ],
      "execution_count": null,
      "outputs": []
    },
    {
      "cell_type": "code",
      "metadata": {
        "id": "h7SVyfwTRDF2"
      },
      "source": [
        ""
      ],
      "execution_count": null,
      "outputs": []
    },
    {
      "cell_type": "code",
      "metadata": {
        "id": "qyGVcgIeRDXq"
      },
      "source": [
        ""
      ],
      "execution_count": null,
      "outputs": []
    }
  ]
}