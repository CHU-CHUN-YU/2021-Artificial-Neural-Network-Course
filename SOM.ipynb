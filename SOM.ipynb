{
 "cells": [
  {
   "cell_type": "code",
   "execution_count": 2,
   "id": "6dea5e8b",
   "metadata": {},
   "outputs": [],
   "source": [
    "import numpy as np\n",
    "import matplotlib.pyplot as plt"
   ]
  },
  {
   "cell_type": "code",
   "execution_count": 5,
   "id": "f22d7f23",
   "metadata": {},
   "outputs": [],
   "source": [
    "#! pip install minisom"
   ]
  },
  {
   "cell_type": "code",
   "execution_count": 6,
   "id": "bbf25fa4",
   "metadata": {},
   "outputs": [],
   "source": [
    "import numpy as np\n",
    "import math\n",
    "from minisom import MiniSom    \n",
    "import matplotlib.pyplot as plt\n",
    "\n",
    "num1=[0,0,0,1,0,0,0,1,0,0,0,1,0,0,0,1,0,0,0,1,0,0,0,1,0,0,0,1,0,0,0,1,0,0,0,1]\n",
    "num2=[1,1,1,1,0,0,0,1,0,0,0,1,0,0,0,1,1,1,1,1,1,0,0,0,1,0,0,0,1,0,0,0,1,1,1,1]\n",
    "num3=[1,1,1,1,0,0,0,1,0,0,0,1,0,0,0,1,1,1,1,1,0,0,0,1,0,0,0,1,0,0,0,1,1,1,1,1]\n",
    "num4=[1,0,0,1,1,0,0,1,1,0,0,1,1,0,0,1,1,1,1,1,0,0,0,1,0,0,0,1,0,0,0,1,0,0,0,1]\n",
    "num5=[1,1,1,1,1,0,0,0,1,0,0,0,1,0,0,0,1,1,1,1,0,0,0,1,0,0,0,1,0,0,0,1,1,1,1,1]\n",
    "num6=[1,1,1,1,1,0,0,0,1,0,0,0,1,0,0,0,1,1,1,1,1,0,0,1,1,0,0,1,1,0,0,1,1,1,1,1]\n",
    "num7=[1,0,0,0,0,0,0,1,0,0,0,1,0,0,0,1,0,0,0,1,0,0,0,1,0,0,0,1,0,0,0,1,0,0,0,1]\n",
    "num8=[1,1,1,1,1,0,0,1,1,0,0,1,1,0,0,1,1,1,1,1,1,0,0,1,1,0,0,1,1,0,0,1,1,1,1,1]\n",
    "num9=[1,1,1,1,1,0,0,1,1,0,0,1,1,0,0,1,1,1,1,1,0,0,0,1,0,0,0,1,0,0,0,1,0,0,0,1]\n",
    "num0=[1,1,1,1,1,0,0,1,1,0,0,1,1,0,0,1,1,0,0,1,1,0,0,1,1,0,0,1,1,0,0,1,1,1,1,1]"
   ]
  },
  {
   "cell_type": "code",
   "execution_count": 13,
   "id": "cd1bc685",
   "metadata": {},
   "outputs": [],
   "source": [
    "data=[num1,num2,num3,num4,num5,num6,num7,num8,num9,num0]\n",
    "data=np.asarray(data)\n",
    "\n",
    "som_size=4\n",
    "som = MiniSom(som_size, som_size, 36, sigma=1, learning_rate=0.1) # initialization of 6x6 SOM\n",
    "som.train(data,500) # trains the SOM with 100 iterations\n",
    "weights=som.get_weights()"
   ]
  },
  {
   "cell_type": "code",
   "execution_count": 14,
   "id": "a07aa095",
   "metadata": {},
   "outputs": [],
   "source": [
    "#%%\n",
    "flatten_weights=[]\n",
    "for i in range(0,len(weights)):\n",
    "    for j in range(0,len(weights[i])):\n",
    "        flatten_weights.append(weights[i,j,:])\n"
   ]
  },
  {
   "cell_type": "code",
   "execution_count": 15,
   "id": "046c0e1d",
   "metadata": {},
   "outputs": [
    {
     "name": "stderr",
     "output_type": "stream",
     "text": [
      "Clipping input data to the valid range for imshow with RGB data ([0..1] for floats or [0..255] for integers).\n"
     ]
    },
    {
     "data": {
      "image/png": "[encoded data removed]",
      "text/plain": [
       "<Figure size 432x288 with 1 Axes>"
      ]
     },
     "metadata": {
      "needs_background": "light"
     },
     "output_type": "display_data"
    }
   ],
   "source": [
    "#%%\n",
    "#reshape\n",
    "nr=9;\n",
    "nc=4;\n",
    "c1=np.zeros((nr,nc))\n",
    "c=np.zeros((nr*som_size,nc*som_size,3))\n",
    "\n",
    "#矩陣為將每一神經元權重串起\n",
    "index=0\n",
    "for t in range(0,som_size*som_size):\n",
    "    i1=math.floor((t)/som_size);\n",
    "    i2=t%som_size\n",
    "    for i in range(1,nr):\n",
    "        for j in range(1,nc):\n",
    "            c1[i,j]=1-flatten_weights[t][(i-1)*nc+j]\n",
    "            index=index+1\n",
    "        \n",
    "    \n",
    "    c[i1*nr:i1*nr+nr,i2*nc:i2*nc+(nc),0]=c1;\n",
    "    c[i1*nr:i1*nr+nr,i2*nc:i2*nc+(nc),1]=c1;\n",
    "    c[i1*nr:i1*nr+nr,i2*nc:i2*nc+(nc),2]=c1;\n",
    "\n",
    "plt.figure()\n",
    "plt.imshow(c) \n",
    "plt.show()  # display it"
   ]
  },
  {
   "cell_type": "code",
   "execution_count": null,
   "id": "b075f895",
   "metadata": {},
   "outputs": [],
   "source": []
  },
  {
   "cell_type": "code",
   "execution_count": null,
   "id": "930c3753",
   "metadata": {},
   "outputs": [],
   "source": []
  },
  {
   "cell_type": "code",
   "execution_count": null,
   "id": "eb4a82ad",
   "metadata": {},
   "outputs": [],
   "source": []
  }
 ],
 "metadata": {
  "kernelspec": {
   "display_name": "Python 3 (ipykernel)",
   "language": "python",
   "name": "python3"
  },
  "language_info": {
   "codemirror_mode": {
    "name": "ipython",
    "version": 3
   },
   "file_extension": ".py",
   "mimetype": "text/x-python",
   "name": "python",
   "nbconvert_exporter": "python",
   "pygments_lexer": "ipython3",
   "version": "3.7.6"
  }
 },
 "nbformat": 4,
 "nbformat_minor": 5
}
